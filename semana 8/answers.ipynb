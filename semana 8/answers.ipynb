{
 "cells": [
  {
   "cell_type": "code",
   "execution_count": 1,
   "metadata": {},
   "outputs": [],
   "source": [
    "import pandas as pd\n",
    "from matplotlib import pyplot as plt\n",
    "import numpy as np\n",
    "\n",
    "from sklearn.model_selection import train_test_split\n",
    "from sklearn.metrics import mean_squared_error\n",
    "from sklearn.ensemble import RandomForestRegressor\n",
    "from sklearn.model_selection import cross_val_score\n",
    "from sklearn.metrics import mean_squared_error\n",
    "\n",
    "import xgboost as xgb"
   ]
  },
  {
   "cell_type": "code",
   "execution_count": 2,
   "metadata": {},
   "outputs": [],
   "source": [
    "df = pd.read_csv('train.csv')\n",
    "test = pd.read_csv('test.csv')"
   ]
  },
  {
   "cell_type": "code",
   "execution_count": 3,
   "metadata": {},
   "outputs": [],
   "source": [
    "# Retirando do dataset de treino as features que não estão presentes no dataset de teste. À exceção da feature target, claro.\n",
    "\n",
    "colunas = list(test.columns)\n",
    "colunas.append('NU_NOTA_MT')\n",
    "df = df[colunas]"
   ]
  },
  {
   "cell_type": "code",
   "execution_count": 4,
   "metadata": {},
   "outputs": [
    {
     "data": {
      "text/html": [
       "<div>\n",
       "<style scoped>\n",
       "    .dataframe tbody tr th:only-of-type {\n",
       "        vertical-align: middle;\n",
       "    }\n",
       "\n",
       "    .dataframe tbody tr th {\n",
       "        vertical-align: top;\n",
       "    }\n",
       "\n",
       "    .dataframe thead th {\n",
       "        text-align: right;\n",
       "    }\n",
       "</style>\n",
       "<table border=\"1\" class=\"dataframe\">\n",
       "  <thead>\n",
       "    <tr style=\"text-align: right;\">\n",
       "      <th></th>\n",
       "      <th>NU_INSCRICAO</th>\n",
       "      <th>CO_UF_RESIDENCIA</th>\n",
       "      <th>SG_UF_RESIDENCIA</th>\n",
       "      <th>NU_IDADE</th>\n",
       "      <th>TP_SEXO</th>\n",
       "      <th>TP_COR_RACA</th>\n",
       "      <th>TP_NACIONALIDADE</th>\n",
       "      <th>TP_ST_CONCLUSAO</th>\n",
       "      <th>TP_ANO_CONCLUIU</th>\n",
       "      <th>TP_ESCOLA</th>\n",
       "      <th>...</th>\n",
       "      <th>NU_NOTA_REDACAO</th>\n",
       "      <th>Q001</th>\n",
       "      <th>Q002</th>\n",
       "      <th>Q006</th>\n",
       "      <th>Q024</th>\n",
       "      <th>Q025</th>\n",
       "      <th>Q026</th>\n",
       "      <th>Q027</th>\n",
       "      <th>Q047</th>\n",
       "      <th>NU_NOTA_MT</th>\n",
       "    </tr>\n",
       "  </thead>\n",
       "  <tbody>\n",
       "    <tr>\n",
       "      <th>0</th>\n",
       "      <td>ed50e8aaa58e7a806c337585efee9ca41f1eb1ad</td>\n",
       "      <td>43</td>\n",
       "      <td>RS</td>\n",
       "      <td>24</td>\n",
       "      <td>M</td>\n",
       "      <td>1</td>\n",
       "      <td>1</td>\n",
       "      <td>1</td>\n",
       "      <td>4</td>\n",
       "      <td>1</td>\n",
       "      <td>...</td>\n",
       "      <td>520.0</td>\n",
       "      <td>D</td>\n",
       "      <td>D</td>\n",
       "      <td>C</td>\n",
       "      <td>A</td>\n",
       "      <td>A</td>\n",
       "      <td>C</td>\n",
       "      <td>H</td>\n",
       "      <td>A</td>\n",
       "      <td>399.4</td>\n",
       "    </tr>\n",
       "    <tr>\n",
       "      <th>1</th>\n",
       "      <td>2c3acac4b33ec2b195d77e7c04a2d75727fad723</td>\n",
       "      <td>23</td>\n",
       "      <td>CE</td>\n",
       "      <td>17</td>\n",
       "      <td>F</td>\n",
       "      <td>3</td>\n",
       "      <td>1</td>\n",
       "      <td>2</td>\n",
       "      <td>0</td>\n",
       "      <td>2</td>\n",
       "      <td>...</td>\n",
       "      <td>580.0</td>\n",
       "      <td>A</td>\n",
       "      <td>A</td>\n",
       "      <td>B</td>\n",
       "      <td>A</td>\n",
       "      <td>A</td>\n",
       "      <td>A</td>\n",
       "      <td>NaN</td>\n",
       "      <td>A</td>\n",
       "      <td>459.8</td>\n",
       "    </tr>\n",
       "    <tr>\n",
       "      <th>2</th>\n",
       "      <td>f4545f8ccb9ff5c8aad7d32951b3f251a26e6568</td>\n",
       "      <td>23</td>\n",
       "      <td>CE</td>\n",
       "      <td>21</td>\n",
       "      <td>F</td>\n",
       "      <td>3</td>\n",
       "      <td>1</td>\n",
       "      <td>3</td>\n",
       "      <td>0</td>\n",
       "      <td>1</td>\n",
       "      <td>...</td>\n",
       "      <td>NaN</td>\n",
       "      <td>D</td>\n",
       "      <td>D</td>\n",
       "      <td>C</td>\n",
       "      <td>A</td>\n",
       "      <td>A</td>\n",
       "      <td>A</td>\n",
       "      <td>NaN</td>\n",
       "      <td>A</td>\n",
       "      <td>NaN</td>\n",
       "    </tr>\n",
       "    <tr>\n",
       "      <th>3</th>\n",
       "      <td>3d6ec248fef899c414e77f82d5c6d2bffbeaf7fe</td>\n",
       "      <td>33</td>\n",
       "      <td>RJ</td>\n",
       "      <td>25</td>\n",
       "      <td>F</td>\n",
       "      <td>0</td>\n",
       "      <td>1</td>\n",
       "      <td>1</td>\n",
       "      <td>9</td>\n",
       "      <td>1</td>\n",
       "      <td>...</td>\n",
       "      <td>NaN</td>\n",
       "      <td>H</td>\n",
       "      <td>E</td>\n",
       "      <td>E</td>\n",
       "      <td>C</td>\n",
       "      <td>B</td>\n",
       "      <td>C</td>\n",
       "      <td>F</td>\n",
       "      <td>D</td>\n",
       "      <td>NaN</td>\n",
       "    </tr>\n",
       "    <tr>\n",
       "      <th>4</th>\n",
       "      <td>bf896ac8d3ecadd6dba1dfbf50110afcbf5d3268</td>\n",
       "      <td>13</td>\n",
       "      <td>AM</td>\n",
       "      <td>28</td>\n",
       "      <td>M</td>\n",
       "      <td>2</td>\n",
       "      <td>1</td>\n",
       "      <td>1</td>\n",
       "      <td>4</td>\n",
       "      <td>1</td>\n",
       "      <td>...</td>\n",
       "      <td>NaN</td>\n",
       "      <td>E</td>\n",
       "      <td>D</td>\n",
       "      <td>C</td>\n",
       "      <td>A</td>\n",
       "      <td>A</td>\n",
       "      <td>B</td>\n",
       "      <td>F</td>\n",
       "      <td>A</td>\n",
       "      <td>NaN</td>\n",
       "    </tr>\n",
       "  </tbody>\n",
       "</table>\n",
       "<p>5 rows × 48 columns</p>\n",
       "</div>"
      ],
      "text/plain": [
       "                               NU_INSCRICAO  CO_UF_RESIDENCIA  \\\n",
       "0  ed50e8aaa58e7a806c337585efee9ca41f1eb1ad                43   \n",
       "1  2c3acac4b33ec2b195d77e7c04a2d75727fad723                23   \n",
       "2  f4545f8ccb9ff5c8aad7d32951b3f251a26e6568                23   \n",
       "3  3d6ec248fef899c414e77f82d5c6d2bffbeaf7fe                33   \n",
       "4  bf896ac8d3ecadd6dba1dfbf50110afcbf5d3268                13   \n",
       "\n",
       "  SG_UF_RESIDENCIA  NU_IDADE TP_SEXO  TP_COR_RACA  TP_NACIONALIDADE  \\\n",
       "0               RS        24       M            1                 1   \n",
       "1               CE        17       F            3                 1   \n",
       "2               CE        21       F            3                 1   \n",
       "3               RJ        25       F            0                 1   \n",
       "4               AM        28       M            2                 1   \n",
       "\n",
       "   TP_ST_CONCLUSAO  TP_ANO_CONCLUIU  TP_ESCOLA  ...  NU_NOTA_REDACAO  Q001  \\\n",
       "0                1                4          1  ...            520.0     D   \n",
       "1                2                0          2  ...            580.0     A   \n",
       "2                3                0          1  ...              NaN     D   \n",
       "3                1                9          1  ...              NaN     H   \n",
       "4                1                4          1  ...              NaN     E   \n",
       "\n",
       "   Q002  Q006  Q024  Q025  Q026  Q027  Q047  NU_NOTA_MT  \n",
       "0     D     C     A     A     C     H     A       399.4  \n",
       "1     A     B     A     A     A   NaN     A       459.8  \n",
       "2     D     C     A     A     A   NaN     A         NaN  \n",
       "3     E     E     C     B     C     F     D         NaN  \n",
       "4     D     C     A     A     B     F     A         NaN  \n",
       "\n",
       "[5 rows x 48 columns]"
      ]
     },
     "execution_count": 4,
     "metadata": {},
     "output_type": "execute_result"
    }
   ],
   "source": [
    "df.head()"
   ]
  },
  {
   "cell_type": "code",
   "execution_count": 5,
   "metadata": {},
   "outputs": [
    {
     "data": {
      "text/plain": [
       "TP_DEPENDENCIA_ADM_ESC    9448\n",
       "TP_ENSINO                 9448\n",
       "Q027                      7373\n",
       "NU_NOTA_MT                3597\n",
       "NU_NOTA_COMP5             3597\n",
       "NU_NOTA_LC                3597\n",
       "TP_STATUS_REDACAO         3597\n",
       "NU_NOTA_COMP2             3597\n",
       "NU_NOTA_COMP3             3597\n",
       "NU_NOTA_COMP4             3597\n",
       "NU_NOTA_COMP1             3597\n",
       "NU_NOTA_REDACAO           3597\n",
       "NU_NOTA_CH                3389\n",
       "NU_NOTA_CN                3389\n",
       "TP_ESCOLA                    0\n",
       "IN_SURDEZ                    0\n",
       "IN_CEGUEIRA                  0\n",
       "IN_BAIXA_VISAO               0\n",
       "CO_UF_RESIDENCIA             0\n",
       "IN_TREINEIRO                 0\n",
       "SG_UF_RESIDENCIA             0\n",
       "TP_ANO_CONCLUIU              0\n",
       "TP_NACIONALIDADE             0\n",
       "NU_IDADE                     0\n",
       "TP_ST_CONCLUSAO              0\n",
       "TP_SEXO                      0\n",
       "IN_DISCALCULIA               0\n",
       "TP_COR_RACA                  0\n",
       "IN_DISLEXIA                  0\n",
       "TP_PRESENCA_LC               0\n",
       "IN_SABATISTA                 0\n",
       "IN_GESTANTE                  0\n",
       "Q026                         0\n",
       "Q025                         0\n",
       "Q024                         0\n",
       "Q006                         0\n",
       "Q002                         0\n",
       "Q001                         0\n",
       "TP_LINGUA                    0\n",
       "CO_PROVA_MT                  0\n",
       "CO_PROVA_LC                  0\n",
       "CO_PROVA_CH                  0\n",
       "CO_PROVA_CN                  0\n",
       "Q047                         0\n",
       "TP_PRESENCA_CH               0\n",
       "TP_PRESENCA_CN               0\n",
       "IN_IDOSO                     0\n",
       "NU_INSCRICAO                 0\n",
       "dtype: int64"
      ]
     },
     "execution_count": 5,
     "metadata": {},
     "output_type": "execute_result"
    }
   ],
   "source": [
    "df.isnull().sum().sort_values(ascending = False)"
   ]
  },
  {
   "cell_type": "code",
   "execution_count": 6,
   "metadata": {},
   "outputs": [],
   "source": [
    "# df somente com as features numéricas\n",
    "\n",
    "df_num = df.select_dtypes(exclude = 'object').columns\n",
    "test_num = test.select_dtypes(exclude = 'object').columns"
   ]
  },
  {
   "cell_type": "code",
   "execution_count": 7,
   "metadata": {},
   "outputs": [],
   "source": [
    "# Inputando 0 nos valores missing.\n",
    "\n",
    "df[df_num] = df.loc[:,df_num].fillna(0)\n",
    "test[test_num] = test.loc[:,test_num].fillna(0)"
   ]
  },
  {
   "cell_type": "code",
   "execution_count": 8,
   "metadata": {},
   "outputs": [],
   "source": [
    "# Separando o id e o target antes de realizer one-hot encoding\n",
    "\n",
    "inscricao_df = df['NU_INSCRICAO']\n",
    "inscricao_test = test['NU_INSCRICAO']\n",
    "nota = df['NU_NOTA_MT']\n",
    "\n",
    "df = df.iloc[:,1:-1]\n",
    "test = test.iloc[:, 1:]"
   ]
  },
  {
   "cell_type": "code",
   "execution_count": 9,
   "metadata": {},
   "outputs": [],
   "source": [
    "# One-hot encoding dos datasets de treino e teste juntos (importante para se ter as mesmas features nos dois datasets)\n",
    "\n",
    "dummies = pd.get_dummies(df.append(test))"
   ]
  },
  {
   "cell_type": "code",
   "execution_count": 10,
   "metadata": {},
   "outputs": [
    {
     "name": "stderr",
     "output_type": "stream",
     "text": [
      "C:\\Users\\corad\\anaconda3\\lib\\site-packages\\ipykernel_launcher.py:7: SettingWithCopyWarning: \n",
      "A value is trying to be set on a copy of a slice from a DataFrame.\n",
      "Try using .loc[row_indexer,col_indexer] = value instead\n",
      "\n",
      "See the caveats in the documentation: https://pandas.pydata.org/pandas-docs/stable/user_guide/indexing.html#returning-a-view-versus-a-copy\n",
      "  import sys\n",
      "C:\\Users\\corad\\anaconda3\\lib\\site-packages\\ipykernel_launcher.py:8: SettingWithCopyWarning: \n",
      "A value is trying to be set on a copy of a slice from a DataFrame.\n",
      "Try using .loc[row_indexer,col_indexer] = value instead\n",
      "\n",
      "See the caveats in the documentation: https://pandas.pydata.org/pandas-docs/stable/user_guide/indexing.html#returning-a-view-versus-a-copy\n",
      "  \n",
      "C:\\Users\\corad\\anaconda3\\lib\\site-packages\\ipykernel_launcher.py:9: SettingWithCopyWarning: \n",
      "A value is trying to be set on a copy of a slice from a DataFrame.\n",
      "Try using .loc[row_indexer,col_indexer] = value instead\n",
      "\n",
      "See the caveats in the documentation: https://pandas.pydata.org/pandas-docs/stable/user_guide/indexing.html#returning-a-view-versus-a-copy\n",
      "  if __name__ == '__main__':\n"
     ]
    }
   ],
   "source": [
    "# \"Devolvendo\" os dataframes para df e test\n",
    "df_lenght = len(df)\n",
    "\n",
    "df = dummies.iloc[:df_lenght]\n",
    "test = dummies.iloc[df_lenght:]\n",
    "\n",
    "df['NU_NOTA_MT'] = nota\n",
    "df['NU_INSCRICAO'] = inscricao_df\n",
    "test['NU_INSCRICAO'] = inscricao_test\n",
    "\n",
    "# Poupando um pouco de memória\n",
    "del dummies"
   ]
  },
  {
   "cell_type": "code",
   "execution_count": 11,
   "metadata": {},
   "outputs": [],
   "source": [
    "rf = RandomForestRegressor()"
   ]
  },
  {
   "cell_type": "code",
   "execution_count": 12,
   "metadata": {},
   "outputs": [],
   "source": [
    "# Separando em treino e teste\n",
    "\n",
    "X = df.drop(['NU_NOTA_MT','NU_INSCRICAO'],1)\n",
    "y = df['NU_NOTA_MT']\n",
    "X_train, X_test, y_train, y_test = train_test_split(X, y, test_size = 0.33, random_state = 42)"
   ]
  },
  {
   "cell_type": "code",
   "execution_count": 13,
   "metadata": {},
   "outputs": [
    {
     "data": {
      "text/plain": [
       "(13730, 162)"
      ]
     },
     "execution_count": 13,
     "metadata": {},
     "output_type": "execute_result"
    }
   ],
   "source": [
    "df.shape"
   ]
  },
  {
   "cell_type": "code",
   "execution_count": 14,
   "metadata": {},
   "outputs": [
    {
     "data": {
      "text/plain": [
       "RandomForestRegressor(bootstrap=True, ccp_alpha=0.0, criterion='mse',\n",
       "                      max_depth=None, max_features='auto', max_leaf_nodes=None,\n",
       "                      max_samples=None, min_impurity_decrease=0.0,\n",
       "                      min_impurity_split=None, min_samples_leaf=1,\n",
       "                      min_samples_split=2, min_weight_fraction_leaf=0.0,\n",
       "                      n_estimators=100, n_jobs=None, oob_score=False,\n",
       "                      random_state=None, verbose=0, warm_start=False)"
      ]
     },
     "execution_count": 14,
     "metadata": {},
     "output_type": "execute_result"
    }
   ],
   "source": [
    "rf.fit(X_train, y_train)"
   ]
  },
  {
   "cell_type": "code",
   "execution_count": 15,
   "metadata": {},
   "outputs": [],
   "source": [
    "pred = rf.predict(X_test)"
   ]
  },
  {
   "cell_type": "code",
   "execution_count": 16,
   "metadata": {},
   "outputs": [
    {
     "name": "stdout",
     "output_type": "stream",
     "text": [
      "RMSE: 62.17160548139469\n"
     ]
    }
   ],
   "source": [
    "print(f'RMSE: {np.sqrt(mean_squared_error(y_test, pred))}')"
   ]
  },
  {
   "cell_type": "code",
   "execution_count": 17,
   "metadata": {},
   "outputs": [
    {
     "data": {
      "text/plain": [
       "0.9279015212622892"
      ]
     },
     "execution_count": 17,
     "metadata": {},
     "output_type": "execute_result"
    }
   ],
   "source": [
    "rf.score(X_test, y_test)"
   ]
  },
  {
   "cell_type": "code",
   "execution_count": 18,
   "metadata": {},
   "outputs": [
    {
     "data": {
      "text/plain": [
       "<matplotlib.axes._subplots.AxesSubplot at 0x2b7163c3048>"
      ]
     },
     "execution_count": 18,
     "metadata": {},
     "output_type": "execute_result"
    },
    {
     "data": {
      "image/png": "[encoded data removed]",
      "text/plain": [
       "<Figure size 432x288 with 1 Axes>"
      ]
     },
     "metadata": {
      "needs_background": "light"
     },
     "output_type": "display_data"
    }
   ],
   "source": [
    "# Feature importances\n",
    "\n",
    "feat_importances = pd.Series(rf.feature_importances_, index= X.columns)\n",
    "feat_importances.nlargest(7).plot(kind='barh')"
   ]
  },
  {
   "cell_type": "code",
   "execution_count": 19,
   "metadata": {},
   "outputs": [],
   "source": [
    "# Escolhendo somente as 10 features mais importantes\n",
    "\n",
    "features = feat_importances.sort_values(ascending = False)[:10].index"
   ]
  },
  {
   "cell_type": "code",
   "execution_count": 20,
   "metadata": {},
   "outputs": [
    {
     "data": {
      "text/plain": [
       "RandomForestRegressor(bootstrap=True, ccp_alpha=0.0, criterion='mse',\n",
       "                      max_depth=None, max_features='auto', max_leaf_nodes=None,\n",
       "                      max_samples=None, min_impurity_decrease=0.0,\n",
       "                      min_impurity_split=None, min_samples_leaf=1,\n",
       "                      min_samples_split=2, min_weight_fraction_leaf=0.0,\n",
       "                      n_estimators=100, n_jobs=None, oob_score=False,\n",
       "                      random_state=None, verbose=0, warm_start=False)"
      ]
     },
     "execution_count": 20,
     "metadata": {},
     "output_type": "execute_result"
    }
   ],
   "source": [
    "X = df[features]\n",
    "rf.fit(X,y)"
   ]
  },
  {
   "cell_type": "code",
   "execution_count": 21,
   "metadata": {},
   "outputs": [
    {
     "name": "stdout",
     "output_type": "stream",
     "text": [
      "RMSE: 62.17160548139469\n"
     ]
    }
   ],
   "source": [
    "print(f'RMSE: {np.sqrt(mean_squared_error(y_test, pred))}')"
   ]
  },
  {
   "cell_type": "code",
   "execution_count": 22,
   "metadata": {},
   "outputs": [
    {
     "data": {
      "text/plain": [
       "0.9891138954131963"
      ]
     },
     "execution_count": 22,
     "metadata": {},
     "output_type": "execute_result"
    }
   ],
   "source": [
    "X_train, X_test, y_train, y_test = train_test_split(X, y, test_size = 0.33, random_state = 42)\n",
    "rf.score(X_test, y_test)"
   ]
  },
  {
   "cell_type": "code",
   "execution_count": 23,
   "metadata": {},
   "outputs": [],
   "source": [
    "sub = rf.predict(test[features])"
   ]
  },
  {
   "cell_type": "code",
   "execution_count": 24,
   "metadata": {},
   "outputs": [],
   "source": [
    "test = pd.read_csv('test.csv')"
   ]
  },
  {
   "cell_type": "code",
   "execution_count": 25,
   "metadata": {},
   "outputs": [],
   "source": [
    "submit = pd.Series(sub, index=test['NU_INSCRICAO'], name='NU_NOTA_MT')"
   ]
  },
  {
   "cell_type": "code",
   "execution_count": 26,
   "metadata": {},
   "outputs": [],
   "source": [
    "submit.to_csv(\"answer.csv\", header=True)"
   ]
  },
  {
   "cell_type": "code",
   "execution_count": null,
   "metadata": {},
   "outputs": [],
   "source": []
  }
 ],
 "metadata": {
  "kernelspec": {
   "display_name": "Python 3",
   "language": "python",
   "name": "python3"
  },
  "language_info": {
   "codemirror_mode": {
    "name": "ipython",
    "version": 3
   },
   "file_extension": ".py",
   "mimetype": "text/x-python",
   "name": "python",
   "nbconvert_exporter": "python",
   "pygments_lexer": "ipython3",
   "version": "3.7.6"
  }
 },
 "nbformat": 4,
 "nbformat_minor": 4
}
